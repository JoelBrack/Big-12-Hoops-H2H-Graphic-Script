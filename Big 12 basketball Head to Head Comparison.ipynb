{
 "cells": [
  {
   "cell_type": "code",
   "execution_count": 12,
   "metadata": {},
   "outputs": [],
   "source": [
    "#load in commonly used packages\n",
    "import pandas as pd\n",
    "import numpy as np\n",
    "import requests\n",
    "import json\n",
    "import requests\n",
    "import matplotlib.pyplot as plt\n",
    "pd.set_option('display.max_columns', 500)\n",
    "from bs4 import BeautifulSoup"
   ]
  },
  {
   "cell_type": "code",
   "execution_count": 13,
   "metadata": {},
   "outputs": [],
   "source": [
    "#get list of team names in URL\n",
    "big12 = ['baylor','iowa-state','kansas','kansas-state','oklahoma','oklahoma-state','texas-christian','texas','texas-tech','west-virginia']"
   ]
  },
  {
   "cell_type": "code",
   "execution_count": 16,
   "metadata": {},
   "outputs": [],
   "source": [
    "#create empty df with columns named for team, opponents, total, and pct\n",
    "total = pd.DataFrame(columns=['team','baylor','iowa-state','kansas','kansas-state',\n",
    "                              'oklahoma','oklahoma-state','texas-christian','texas',\n",
    "                              'texas-tech','west-virginia', 'total','pct']) \n",
    "#set index count as -1\n",
    "count = -1\n",
    "\n",
    "#cycle through each team, grabbing their record against each opponent, total record, and win pct\n",
    "for team_a in big12:\n",
    "    records = [team_a]\n",
    "    count = count + 1\n",
    "    wins = 0\n",
    "    losses = 0\n",
    "    \n",
    "    #cycle through all opponents\n",
    "    for team_b in big12:\n",
    "        if team_a != team_b:\n",
    "            \n",
    "            #this chunk is finding the right thing to scrape to get head to head record since the 12-13 season\n",
    "            url = 'https://www.sports-reference.com/cbb/play-index/matchup_finder.cgi?request=1&year_min=2013&year_max=2020&comp_school=le&rank_school=ANY&comp_opp=le&rank_opp=ANY&school_id='+team_a+'&opp_id='+team_b+'&game_type=A&order_by=date_game'\n",
    "            page = requests.get(url)\n",
    "            soup = BeautifulSoup(page.content, 'html.parser')\n",
    "            results = soup.find(id='pi')\n",
    "            html = list(results.children)[11]\n",
    "            html2 = list(html.children)[1]\n",
    "            text = html2.get_text()\n",
    "            text2 = text.split()\n",
    "            \n",
    "            #keep track of wins and losses for overall\n",
    "            wins = int(text2[0]) + wins\n",
    "            losses = int(text2[2]) + losses\n",
    "            \n",
    "            #print 'wins'-'losses' for each matchup...then add this to the list\n",
    "            text3 = text2[0] + '-' +text2[2]\n",
    "            records.append(text3)\n",
    "            \n",
    "        #if team_a is same as team_b then print a blank (you don't play yourself)    \n",
    "        if team_a == team_b:\n",
    "            records.append('')\n",
    "            \n",
    "        #when len is 11, ready to print the overall record\n",
    "        if len(records)==11:\n",
    "            records.append(str(wins)+'-'+str(losses))\n",
    "            \n",
    "        #when len is 12, ready to print the overall winning pct    \n",
    "        if len(records)==12:\n",
    "            records.append(str(round(wins/(wins+losses),3)))\n",
    "            \n",
    "        #not append the row to the total df, count indicates which row    \n",
    "        if len(records)==13:\n",
    "            total.loc[count] = records\n",
    "            "
   ]
  },
  {
   "cell_type": "code",
   "execution_count": null,
   "metadata": {},
   "outputs": [],
   "source": [
    "# The output! Let's Go Mountaineers!!\n",
    "total"
   ]
  },
  {
   "cell_type": "code",
   "execution_count": null,
   "metadata": {},
   "outputs": [],
   "source": [
    "#Copied this into Google Sheets...cleaned up some formatting and added offical team colors...the final product!\n"
   ]
  },
  {
   "cell_type": "code",
   "execution_count": null,
   "metadata": {},
   "outputs": [],
   "source": []
  },
  {
   "cell_type": "code",
   "execution_count": null,
   "metadata": {},
   "outputs": [],
   "source": []
  },
  {
   "cell_type": "code",
   "execution_count": null,
   "metadata": {},
   "outputs": [],
   "source": []
  },
  {
   "cell_type": "code",
   "execution_count": null,
   "metadata": {},
   "outputs": [],
   "source": []
  },
  {
   "cell_type": "code",
   "execution_count": null,
   "metadata": {},
   "outputs": [],
   "source": []
  },
  {
   "cell_type": "code",
   "execution_count": null,
   "metadata": {},
   "outputs": [],
   "source": []
  },
  {
   "cell_type": "code",
   "execution_count": null,
   "metadata": {},
   "outputs": [],
   "source": []
  }
 ],
 "metadata": {
  "kernelspec": {
   "display_name": "Python 3",
   "language": "python",
   "name": "python3"
  },
  "language_info": {
   "codemirror_mode": {
    "name": "ipython",
    "version": 3
   },
   "file_extension": ".py",
   "mimetype": "text/x-python",
   "name": "python",
   "nbconvert_exporter": "python",
   "pygments_lexer": "ipython3",
   "version": "3.7.9"
  }
 },
 "nbformat": 4,
 "nbformat_minor": 4
}
